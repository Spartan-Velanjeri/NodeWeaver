{
 "cells": [
  {
   "attachments": {},
   "cell_type": "markdown",
   "metadata": {},
   "source": [
    "A symbolic representation of differenital drive vehicle dynamics with x-axis and y-axis offset reference point (reference to the driveshaft midpoint)\n",
    "\n",
    "Equations are from the paper written by Masayoshi Wada etal.\n",
    "\n",
    "https://www.jstage.jst.go.jp/article/jrsj1983/18/8/18_8_1166/_pdf\n",
    "\n",
    "This notebook is based on [Yosuke Matsusaka repo](https://github.com/devrt/offset-diff-drive-controller/tree/master)"
   ]
  },
  {
   "attachments": {},
   "cell_type": "markdown",
   "metadata": {},
   "source": [
    "# Preparation\n",
    "\n",
    "We use sympy to transform the equation:"
   ]
  },
  {
   "cell_type": "markdown",
   "metadata": {},
   "source": []
  },
  {
   "cell_type": "code",
   "execution_count": 85,
   "metadata": {},
   "outputs": [],
   "source": [
    "#!sudo pip install -U sympy"
   ]
  },
  {
   "cell_type": "code",
   "execution_count": 86,
   "metadata": {},
   "outputs": [],
   "source": [
    "from sympy import *"
   ]
  },
  {
   "cell_type": "code",
   "execution_count": 87,
   "metadata": {},
   "outputs": [],
   "source": [
    "init_printing()"
   ]
  },
  {
   "attachments": {},
   "cell_type": "markdown",
   "metadata": {},
   "source": [
    "# Symbols\n",
    "\n",
    "Following symbols are used to describe internal state of the vehicle:"
   ]
  },
  {
   "cell_type": "code",
   "execution_count": 88,
   "metadata": {},
   "outputs": [],
   "source": [
    "(r, s_x, s_y, W) = symbols(r\"r s_x s_y W\")"
   ]
  },
  {
   "attachments": {},
   "cell_type": "markdown",
   "metadata": {},
   "source": [
    "$r$ : radius of each wheels\n",
    "\n",
    "$W$: wheel separation\n",
    "\n",
    "$s_x$ : wheel offset in x-axis\n",
    "\n",
    "$s_y$ : wheel offset in y-axis"
   ]
  },
  {
   "attachments": {},
   "cell_type": "markdown",
   "metadata": {},
   "source": [
    "Joint space parameters:"
   ]
  },
  {
   "cell_type": "code",
   "execution_count": 89,
   "metadata": {},
   "outputs": [],
   "source": [
    "(wr, wl) = symbols('w_r w_l')\n",
    "uv = Matrix([wr, wl])"
   ]
  },
  {
   "attachments": {},
   "cell_type": "markdown",
   "metadata": {},
   "source": [
    "$w_r$ : angular velocity of the right wheel joint\n",
    "\n",
    "$w_l$ : angular velocity of the left wheel joint"
   ]
  },
  {
   "attachments": {},
   "cell_type": "markdown",
   "metadata": {},
   "source": [
    "Cartesian space parameters:"
   ]
  },
  {
   "cell_type": "code",
   "execution_count": 90,
   "metadata": {},
   "outputs": [],
   "source": [
    "(vx, vy, omega) = symbols('v_x v_y \\omega')\n",
    "twist_v = Matrix([vx, omega])\n",
    "v_des = Matrix([vx, vy])"
   ]
  },
  {
   "attachments": {},
   "cell_type": "markdown",
   "metadata": {},
   "source": [
    "$v_x$ : x axes velocity\n",
    "\n",
    "$v_y$ : y axes velocity\n",
    "\n",
    "$\\omega_z$ : yaw speed"
   ]
  },
  {
   "attachments": {},
   "cell_type": "markdown",
   "metadata": {},
   "source": [
    "# Dynamics of diff drive vehicle"
   ]
  },
  {
   "cell_type": "code",
   "execution_count": 91,
   "metadata": {},
   "outputs": [
    {
     "data": {
      "text/latex": [
       "$\\displaystyle \\left[\\begin{matrix}v_{x}\\\\\\omega\\end{matrix}\\right] = \\left[\\begin{matrix}\\frac{r}{2} & \\frac{r}{2}\\\\\\frac{r}{W} & - \\frac{r}{W}\\end{matrix}\\right] \\left[\\begin{matrix}w_{r}\\\\w_{l}\\end{matrix}\\right]$"
      ],
      "text/plain": [
       "           ⎡r   r ⎤     \n",
       "           ⎢─   ─ ⎥     \n",
       "⎡  vₓ  ⎤   ⎢2   2 ⎥ ⎡wᵣ⎤\n",
       "⎢      ⎥ = ⎢      ⎥⋅⎢  ⎥\n",
       "⎣\\omega⎦   ⎢r  -r ⎥ ⎣wₗ⎦\n",
       "           ⎢─  ───⎥     \n",
       "           ⎣W   W ⎦     "
      ]
     },
     "execution_count": 91,
     "metadata": {},
     "output_type": "execute_result"
    }
   ],
   "source": [
    "diff_drive = Matrix([\n",
    "    [r/2, r/2],\n",
    "    [r/W, -r/W]\n",
    "])\n",
    "Eq(xv, MatMul(diff_drive, Matrix(uv[0:2]), evaluate=False), evaluate=False)"
   ]
  },
  {
   "attachments": {},
   "cell_type": "markdown",
   "metadata": {},
   "source": [
    "x axes velocity $v_x$ and yaw velocity $\\omega_z$ is generated from the combination of left and right wheel velocities.\n",
    "We can natually understand that we cannot directly obtain y axes velocity from the mechanism."
   ]
  },
  {
   "attachments": {},
   "cell_type": "markdown",
   "metadata": {},
   "source": [
    "# Dynamics of offset diff drive vehicle\n",
    "\n",
    "Here, we apply offset to the diff drive vehicle described above.\n",
    "\n",
    "We first, create offset transformation matrix:"
   ]
  },
  {
   "cell_type": "code",
   "execution_count": 92,
   "metadata": {},
   "outputs": [
    {
     "data": {
      "text/latex": [
       "$\\displaystyle \\left[\\begin{matrix}1 & s_{y}\\\\0 & s_{x}\\end{matrix}\\right]$"
      ],
      "text/plain": [
       "⎡1  s_y⎤\n",
       "⎢      ⎥\n",
       "⎣0  sₓ ⎦"
      ]
     },
     "execution_count": 92,
     "metadata": {},
     "output_type": "execute_result"
    }
   ],
   "source": [
    "offset = Matrix([\n",
    "    [1, s_y],\n",
    "    [0, s_x]\n",
    "])\n",
    "offset\n",
    "\n"
   ]
  },
  {
   "cell_type": "code",
   "execution_count": 93,
   "metadata": {},
   "outputs": [
    {
     "data": {
      "text/latex": [
       "$\\displaystyle \\left[\\begin{matrix}1 & - \\frac{s_{y}}{s_{x}}\\\\0 & \\frac{1}{s_{x}}\\end{matrix}\\right]$"
      ],
      "text/plain": [
       "⎡   -s_y ⎤\n",
       "⎢1  ─────⎥\n",
       "⎢     sₓ ⎥\n",
       "⎢        ⎥\n",
       "⎢    1   ⎥\n",
       "⎢0   ──  ⎥\n",
       "⎣    sₓ  ⎦"
      ]
     },
     "execution_count": 93,
     "metadata": {},
     "output_type": "execute_result"
    }
   ],
   "source": [
    "inv_offset = offset.inv()\n",
    "\n",
    "inv_offset"
   ]
  },
  {
   "cell_type": "code",
   "execution_count": 94,
   "metadata": {},
   "outputs": [
    {
     "data": {
      "text/latex": [
       "$\\displaystyle \\left[\\begin{matrix}v_{x}\\\\v_{y}\\end{matrix}\\right] = \\left[\\begin{matrix}1 & s_{y}\\\\0 & s_{x}\\end{matrix}\\right] \\left[\\begin{matrix}v_{x}\\\\\\omega\\end{matrix}\\right]$"
      ],
      "text/plain": [
       "⎡vₓ ⎤   ⎡1  s_y⎤ ⎡  vₓ  ⎤\n",
       "⎢   ⎥ = ⎢      ⎥⋅⎢      ⎥\n",
       "⎣v_y⎦   ⎣0  sₓ ⎦ ⎣\\omega⎦"
      ]
     },
     "execution_count": 94,
     "metadata": {},
     "output_type": "execute_result"
    }
   ],
   "source": [
    "\n",
    "Eq(v_des, MatMul(offset, Matrix(twist_v[0:2]), evaluate=False), evaluate=False)"
   ]
  },
  {
   "cell_type": "code",
   "execution_count": 95,
   "metadata": {},
   "outputs": [
    {
     "data": {
      "text/latex": [
       "$\\displaystyle \\left[\\begin{matrix}v_{x}\\\\\\omega\\end{matrix}\\right] = \\left[\\begin{matrix}1 & - \\frac{s_{y}}{s_{x}}\\\\0 & \\frac{1}{s_{x}}\\end{matrix}\\right] \\left[\\begin{matrix}v_{x}\\\\v_{y}\\end{matrix}\\right]$"
      ],
      "text/plain": [
       "           ⎡   -s_y ⎤      \n",
       "           ⎢1  ─────⎥      \n",
       "⎡  vₓ  ⎤   ⎢     sₓ ⎥ ⎡vₓ ⎤\n",
       "⎢      ⎥ = ⎢        ⎥⋅⎢   ⎥\n",
       "⎣\\omega⎦   ⎢    1   ⎥ ⎣v_y⎦\n",
       "           ⎢0   ──  ⎥      \n",
       "           ⎣    sₓ  ⎦      "
      ]
     },
     "execution_count": 95,
     "metadata": {},
     "output_type": "execute_result"
    }
   ],
   "source": [
    "Eq(twist_v, MatMul(inv_offset, Matrix(v_des[0:2]), evaluate=False), evaluate=False)"
   ]
  },
  {
   "attachments": {},
   "cell_type": "markdown",
   "metadata": {},
   "source": [
    "Apply offset to the jacobian matrix:"
   ]
  },
  {
   "cell_type": "code",
   "execution_count": 96,
   "metadata": {},
   "outputs": [
    {
     "data": {
      "text/latex": [
       "$\\displaystyle \\left[\\begin{matrix}\\frac{r}{2} + \\frac{r s_{y}}{W} & \\frac{r}{2} - \\frac{r s_{y}}{W}\\\\\\frac{r s_{x}}{W} & - \\frac{r s_{x}}{W}\\end{matrix}\\right] = \\left[\\begin{matrix}1 & s_{y}\\\\0 & s_{x}\\end{matrix}\\right] \\left[\\begin{matrix}\\frac{r}{2} & \\frac{r}{2}\\\\\\frac{r}{W} & - \\frac{r}{W}\\end{matrix}\\right]$"
      ],
      "text/plain": [
       "⎡r   r⋅s_y  r   r⋅s_y⎤            ⎡r   r ⎤\n",
       "⎢─ + ─────  ─ - ─────⎥            ⎢─   ─ ⎥\n",
       "⎢2     W    2     W  ⎥   ⎡1  s_y⎤ ⎢2   2 ⎥\n",
       "⎢                    ⎥ = ⎢      ⎥⋅⎢      ⎥\n",
       "⎢  r⋅sₓ      -r⋅sₓ   ⎥   ⎣0  sₓ ⎦ ⎢r  -r ⎥\n",
       "⎢  ────      ──────  ⎥            ⎢─  ───⎥\n",
       "⎣   W          W     ⎦            ⎣W   W ⎦"
      ]
     },
     "execution_count": 96,
     "metadata": {},
     "output_type": "execute_result"
    }
   ],
   "source": [
    "offset_diff_drive = offset * diff_drive\n",
    "Eq(offset_diff_drive, MatMul(offset, diff_drive, evaluate=False), evaluate=False)"
   ]
  },
  {
   "attachments": {},
   "cell_type": "markdown",
   "metadata": {},
   "source": [
    "Now, the equation will be as below:"
   ]
  },
  {
   "cell_type": "code",
   "execution_count": 97,
   "metadata": {},
   "outputs": [
    {
     "data": {
      "text/latex": [
       "$\\displaystyle \\left[\\begin{matrix}v_{x}\\\\v_{y}\\end{matrix}\\right] = \\left[\\begin{matrix}\\frac{r}{2} + \\frac{r s_{y}}{W} & \\frac{r}{2} - \\frac{r s_{y}}{W}\\\\\\frac{r s_{x}}{W} & - \\frac{r s_{x}}{W}\\end{matrix}\\right] \\left[\\begin{matrix}w_{r}\\\\w_{l}\\end{matrix}\\right]$"
      ],
      "text/plain": [
       "        ⎡r   r⋅s_y  r   r⋅s_y⎤     \n",
       "        ⎢─ + ─────  ─ - ─────⎥     \n",
       "⎡vₓ ⎤   ⎢2     W    2     W  ⎥ ⎡wᵣ⎤\n",
       "⎢   ⎥ = ⎢                    ⎥⋅⎢  ⎥\n",
       "⎣v_y⎦   ⎢  r⋅sₓ      -r⋅sₓ   ⎥ ⎣wₗ⎦\n",
       "        ⎢  ────      ──────  ⎥     \n",
       "        ⎣   W          W     ⎦     "
      ]
     },
     "execution_count": 97,
     "metadata": {},
     "output_type": "execute_result"
    }
   ],
   "source": [
    "Eq(v_des, MatMul(offset_diff_drive, Matrix(uv[0:2]), evaluate=False), evaluate=False)"
   ]
  },
  {
   "attachments": {},
   "cell_type": "markdown",
   "metadata": {},
   "source": [
    "What is interesting here, is we get y axes velocity by just adding the offset!\n",
    "\n",
    "Calculating the inverse matrix, we get:"
   ]
  },
  {
   "cell_type": "code",
   "execution_count": 98,
   "metadata": {},
   "outputs": [
    {
     "data": {
      "text/latex": [
       "$\\displaystyle \\left[\\begin{matrix}w_{r}\\\\w_{l}\\end{matrix}\\right] = \\left[\\begin{matrix}\\frac{1}{r} & \\frac{W - 2 s_{y}}{2 r s_{x}}\\\\\\frac{1}{r} & \\frac{- W - 2 s_{y}}{2 r s_{x}}\\end{matrix}\\right] \\left[\\begin{matrix}v_{x}\\\\\\omega\\end{matrix}\\right]$"
      ],
      "text/plain": [
       "       ⎡1  W - 2⋅s_y ⎤         \n",
       "       ⎢─  ───────── ⎥         \n",
       "⎡wᵣ⎤   ⎢r    2⋅r⋅sₓ  ⎥ ⎡  vₓ  ⎤\n",
       "⎢  ⎥ = ⎢             ⎥⋅⎢      ⎥\n",
       "⎣wₗ⎦   ⎢1  -W - 2⋅s_y⎥ ⎣\\omega⎦\n",
       "       ⎢─  ──────────⎥         \n",
       "       ⎣r    2⋅r⋅sₓ  ⎦         "
      ]
     },
     "execution_count": 98,
     "metadata": {},
     "output_type": "execute_result"
    }
   ],
   "source": [
    "inv_offset_diff_drive = Matrix(offset_diff_drive[0:2, :]).inv()\n",
    "# inv_offset_diff_drive = Matrix(offset_diff_drive).pinv()\n",
    "\n",
    "Eq(Matrix(uv[0:2]), MatMul(inv_offset_diff_drive, Matrix(xv[0:2]), evaluate=False), evaluate=False)"
   ]
  }
 ],
 "metadata": {
  "kernelspec": {
   "display_name": "Python 3",
   "language": "python",
   "name": "python3"
  },
  "language_info": {
   "codemirror_mode": {
    "name": "ipython",
    "version": 3
   },
   "file_extension": ".py",
   "mimetype": "text/x-python",
   "name": "python",
   "nbconvert_exporter": "python",
   "pygments_lexer": "ipython3",
   "version": "3.8.10"
  },
  "toc": {
   "base_numbering": 1,
   "nav_menu": {},
   "number_sections": true,
   "sideBar": true,
   "skip_h1_title": false,
   "title_cell": "Table of Contents",
   "title_sidebar": "Contents",
   "toc_cell": false,
   "toc_position": {},
   "toc_section_display": true,
   "toc_window_display": false
  }
 },
 "nbformat": 4,
 "nbformat_minor": 2
}
