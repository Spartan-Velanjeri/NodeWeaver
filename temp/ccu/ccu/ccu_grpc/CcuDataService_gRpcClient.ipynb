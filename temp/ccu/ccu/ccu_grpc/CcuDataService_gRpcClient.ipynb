{
 "cells": [
  {
   "cell_type": "code",
   "execution_count": null,
   "metadata": {},
   "outputs": [],
   "source": [
    "from grpc import insecure_channel\n",
    "\n",
    "# import 'generated server-client code'\n",
    "from ccu_grpc.node_tree_pb2 import NodeTreeMessage, NodeTreeRequest\n",
    "from ccu_grpc.node_tree_pb2_grpc import NodeTreeServiceStub"
   ]
  },
  {
   "cell_type": "code",
   "execution_count": null,
   "metadata": {},
   "outputs": [],
   "source": [
    "# establish network connection on port 50051\n",
    "channel = insecure_channel('localhost:50051')\n",
    "\n",
    "# create client and request\n",
    "service_proxy = NodeTreeServiceStub(channel) \n",
    "q = NodeTreeRequest(missionName=\"2\")\n",
    "\n",
    "# finally call the server\n",
    "response: NodeTreeMessage = service_proxy.GetNodeTreeData(q)"
   ]
  },
  {
   "cell_type": "code",
   "execution_count": null,
   "metadata": {},
   "outputs": [],
   "source": [
    "\n",
    "print(\"NodeTreeMessage received: \", response)"
   ]
  },
  {
   "cell_type": "code",
   "execution_count": null,
   "metadata": {},
   "outputs": [],
   "source": [
    "# traverse the received tree\n",
    "for root_node in response.root.children:\n",
    "    print(f'🟥 1st-level-node name  : {root_node.name}')\n",
    "    for child in root_node.children:\n",
    "        print(f'  ▪️ 2nd-level-node  name: {root_node.name}')"
   ]
  }
 ],
 "metadata": {
  "kernelspec": {
   "display_name": "Python 3",
   "language": "python",
   "name": "python3"
  },
  "language_info": {
   "codemirror_mode": {
    "name": "ipython",
    "version": 3
   },
   "file_extension": ".py",
   "mimetype": "text/x-python",
   "name": "python",
   "nbconvert_exporter": "python",
   "pygments_lexer": "ipython3",
   "version": "3.8.10"
  },
  "orig_nbformat": 4
 },
 "nbformat": 4,
 "nbformat_minor": 2
}
